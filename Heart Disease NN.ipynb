{
 "cells": [
  {
   "cell_type": "markdown",
   "metadata": {},
   "source": [
    "## Neural Network Classification of Hypertensive Hearts by CMR Measures \n",
    "\n",
    "In this analysis I am using a basic neural network to perform classification of between people with hypertension, given their deomgraphics and their measurements derived cardiac magnetic resonance (CMR) imaging."
   ]
  },
  {
   "cell_type": "code",
   "execution_count": 74,
   "metadata": {},
   "outputs": [],
   "source": [
    "import pandas as pd\n",
    "import numpy as np\n",
    "import matplotlib.pyplot as plt\n",
    "\n",
    "from sklearn.model_selection import train_test_split\n",
    "\n",
    "from keras.models import Sequential\n",
    "from keras.layers import Dense, Dropout\n",
    "from keras.utils import to_categorical\n",
    "from sklearn.preprocessing import StandardScaler"
   ]
  },
  {
   "cell_type": "code",
   "execution_count": 50,
   "metadata": {},
   "outputs": [
    {
     "name": "stdout",
     "output_type": "stream",
     "text": [
      "   sex  ethnicity  diabetes  hyperten  highchol  prevMI  smok_status  \\\n",
      "0    0          0         1         1         1       0            0   \n",
      "1    0          0         0         0         0       0            1   \n",
      "2    1          0         0         0         0       0            0   \n",
      "3    0          0         0         0         0       0            1   \n",
      "4    0          1         0         0         1       0            1   \n",
      "\n",
      "    cmr_LVEF  smokerCurrent      age_5       bsa     bmi_5  cmr_LVEDV_i  \\\n",
      "0  64.465409              0  12.733196  1.744422  5.562500    73.012494   \n",
      "1  59.775877              0  14.282820  1.739263  5.156385    65.073337   \n",
      "2  63.243244              0  14.483231  2.139494  5.872084    80.808893   \n",
      "3  52.413793              0  12.049829  1.831942  5.826339    52.835628   \n",
      "4  66.229023              0  14.133333  1.853893  5.991946    78.246369   \n",
      "\n",
      "   cmr_LVESV_i  cmr_LVM_i  asi_combined   cmr_RVEF  cmr_RVEDV_i  cmr_RVESV_i  \n",
      "0    25.944691  43.816107      11.59420  57.410072    79.785665    33.980658  \n",
      "1    26.175180  41.830393      13.11480  60.886150    65.399568    25.580289  \n",
      "2    29.702728  44.799794       9.30052  65.671922    83.117717    28.532715  \n",
      "3    25.142471  34.549035       6.49402  52.588956    61.788372    29.551234  \n",
      "4    26.424564  40.301848       7.98030  61.540683    81.878502    31.714342  \n",
      "(19406, 18)\n"
     ]
    }
   ],
   "source": [
    "heart= pd.read_csv(\"heart_disease.csv\")\n",
    "print(heart.head())\n",
    "\n",
    "y=  heart.hyperten.values\n",
    "X=  heart.drop(\"hyperten\", axis=1).values\n",
    "\n",
    "print(X.shape)"
   ]
  },
  {
   "cell_type": "code",
   "execution_count": 51,
   "metadata": {},
   "outputs": [],
   "source": [
    "X_train, X_test, y_train, y_test = train_test_split(X, y, stratify=y, test_size=0.2, random_state=42)"
   ]
  },
  {
   "cell_type": "code",
   "execution_count": 76,
   "metadata": {},
   "outputs": [],
   "source": [
    "scaler = StandardScaler()\n",
    "train_features = scaler.fit_transform(X_train)\n",
    "test_features  = scaler.transform(X_test)"
   ]
  },
  {
   "cell_type": "code",
   "execution_count": 78,
   "metadata": {},
   "outputs": [
    {
     "name": "stdout",
     "output_type": "stream",
     "text": [
      "Train on 10866 samples, validate on 4658 samples\n",
      "Epoch 1/30\n",
      "10866/10866 [==============================] - 0s 46us/step - loss: 0.6849 - accuracy: 0.6652 - val_loss: 0.5824 - val_accuracy: 0.6846\n",
      "Epoch 2/30\n",
      "10866/10866 [==============================] - 0s 31us/step - loss: 0.5749 - accuracy: 0.6917 - val_loss: 0.6541 - val_accuracy: 0.5419\n",
      "Epoch 3/30\n",
      "10866/10866 [==============================] - 0s 32us/step - loss: 0.5562 - accuracy: 0.7258 - val_loss: 0.5404 - val_accuracy: 0.7411\n",
      "Epoch 4/30\n",
      "10866/10866 [==============================] - 0s 32us/step - loss: 0.5455 - accuracy: 0.7371 - val_loss: 0.5254 - val_accuracy: 0.7570\n",
      "Epoch 5/30\n",
      "10866/10866 [==============================] - 0s 32us/step - loss: 0.5396 - accuracy: 0.7412 - val_loss: 0.5269 - val_accuracy: 0.7581\n",
      "Epoch 6/30\n",
      "10866/10866 [==============================] - 0s 31us/step - loss: 0.5307 - accuracy: 0.7506 - val_loss: 0.5343 - val_accuracy: 0.7435\n",
      "Epoch 7/30\n",
      "10866/10866 [==============================] - 0s 34us/step - loss: 0.5294 - accuracy: 0.7506 - val_loss: 0.5187 - val_accuracy: 0.7550\n",
      "Epoch 8/30\n",
      "10866/10866 [==============================] - 0s 44us/step - loss: 0.5285 - accuracy: 0.7522 - val_loss: 0.5125 - val_accuracy: 0.7593\n",
      "Epoch 9/30\n",
      "10866/10866 [==============================] - 0s 42us/step - loss: 0.5294 - accuracy: 0.7462 - val_loss: 0.5720 - val_accuracy: 0.7274\n",
      "Epoch 10/30\n",
      "10866/10866 [==============================] - 1s 49us/step - loss: 0.5242 - accuracy: 0.7560 - val_loss: 0.5150 - val_accuracy: 0.7619\n",
      "Epoch 11/30\n",
      "10866/10866 [==============================] - 0s 36us/step - loss: 0.5269 - accuracy: 0.7531 - val_loss: 0.5131 - val_accuracy: 0.7598\n",
      "Epoch 12/30\n",
      "10866/10866 [==============================] - 0s 34us/step - loss: 0.5179 - accuracy: 0.7573 - val_loss: 0.5177 - val_accuracy: 0.7512\n",
      "Epoch 13/30\n",
      "10866/10866 [==============================] - 0s 32us/step - loss: 0.5164 - accuracy: 0.7571 - val_loss: 0.5078 - val_accuracy: 0.7619\n",
      "Epoch 14/30\n",
      "10866/10866 [==============================] - 0s 32us/step - loss: 0.5234 - accuracy: 0.7512 - val_loss: 0.5059 - val_accuracy: 0.7604\n",
      "Epoch 15/30\n",
      "10866/10866 [==============================] - 0s 32us/step - loss: 0.5154 - accuracy: 0.7586 - val_loss: 0.5144 - val_accuracy: 0.7550\n",
      "Epoch 16/30\n",
      "10866/10866 [==============================] - 0s 33us/step - loss: 0.5185 - accuracy: 0.7530 - val_loss: 0.5190 - val_accuracy: 0.7559\n",
      "Epoch 17/30\n",
      "10866/10866 [==============================] - 0s 32us/step - loss: 0.5147 - accuracy: 0.7588 - val_loss: 0.5215 - val_accuracy: 0.7544\n",
      "Epoch 18/30\n",
      "10866/10866 [==============================] - 0s 31us/step - loss: 0.5172 - accuracy: 0.7574 - val_loss: 0.5266 - val_accuracy: 0.7492\n",
      "Epoch 19/30\n",
      "10866/10866 [==============================] - 0s 32us/step - loss: 0.5186 - accuracy: 0.7587 - val_loss: 0.5042 - val_accuracy: 0.7634\n",
      "Epoch 20/30\n",
      "10866/10866 [==============================] - 0s 32us/step - loss: 0.5124 - accuracy: 0.7587 - val_loss: 0.5392 - val_accuracy: 0.7398\n",
      "Epoch 21/30\n",
      "10866/10866 [==============================] - 0s 32us/step - loss: 0.5122 - accuracy: 0.7577 - val_loss: 0.4996 - val_accuracy: 0.7630\n",
      "Epoch 22/30\n",
      "10866/10866 [==============================] - 0s 31us/step - loss: 0.5108 - accuracy: 0.7587 - val_loss: 0.5103 - val_accuracy: 0.7598\n",
      "Epoch 23/30\n",
      "10866/10866 [==============================] - 0s 32us/step - loss: 0.5119 - accuracy: 0.7579 - val_loss: 0.4985 - val_accuracy: 0.7647\n",
      "Epoch 24/30\n",
      "10866/10866 [==============================] - 0s 32us/step - loss: 0.5071 - accuracy: 0.7605 - val_loss: 0.4978 - val_accuracy: 0.7632\n",
      "Epoch 25/30\n",
      "10866/10866 [==============================] - 0s 32us/step - loss: 0.5062 - accuracy: 0.7619 - val_loss: 0.5118 - val_accuracy: 0.7557\n",
      "Epoch 26/30\n",
      "10866/10866 [==============================] - 0s 32us/step - loss: 0.5071 - accuracy: 0.7603 - val_loss: 0.4984 - val_accuracy: 0.7615\n",
      "Epoch 27/30\n",
      "10866/10866 [==============================] - 0s 32us/step - loss: 0.5097 - accuracy: 0.7588 - val_loss: 0.4969 - val_accuracy: 0.7630\n",
      "Epoch 28/30\n",
      "10866/10866 [==============================] - 0s 32us/step - loss: 0.5073 - accuracy: 0.7638 - val_loss: 0.5263 - val_accuracy: 0.7471\n",
      "Epoch 29/30\n",
      "10866/10866 [==============================] - 0s 35us/step - loss: 0.5073 - accuracy: 0.7613 - val_loss: 0.5228 - val_accuracy: 0.7576\n",
      "Epoch 30/30\n",
      "10866/10866 [==============================] - 0s 33us/step - loss: 0.5056 - accuracy: 0.7627 - val_loss: 0.4948 - val_accuracy: 0.7651\n",
      "3882/3882 [==============================] - 0s 13us/step\n",
      "Accuracy: 0.7709943056106567\n"
     ]
    }
   ],
   "source": [
    "\n",
    "# Create a Sequential model\n",
    "model = Sequential()\n",
    "\n",
    "# Add a dense layer \n",
    "model.add(Dense(1000, input_shape=(18,), activation='relu'))\n",
    "#model.add(Dropout(0.05))\n",
    "model.add(Dense(100, activation='relu'))\n",
    "\n",
    "model.add(Dense(10, activation='relu'))\n",
    "model.add(Dense(1, activation='sigmoid'))\n",
    "\n",
    "# Compile your model\n",
    "model.compile(loss='binary_crossentropy', optimizer='adam', metrics=['accuracy'])\n",
    "\n",
    "# Train your model for 20 epochs\n",
    "history= model.fit(X_train, y_train, epochs=30, validation_split = 0.3, batch_size= 50)\n",
    "\n",
    "# Evaluate your model accuracy on the test set\n",
    "accuracy = model.evaluate(X_test, y_test)[1]\n",
    "\n",
    "# Print accuracy\n",
    "print('Accuracy:',accuracy)"
   ]
  },
  {
   "cell_type": "code",
   "execution_count": 79,
   "metadata": {},
   "outputs": [
    {
     "name": "stdout",
     "output_type": "stream",
     "text": [
      "[[2401  245]\n",
      " [ 644  592]]\n",
      "              precision    recall  f1-score   support\n",
      "\n",
      "           0       0.79      0.91      0.84      2646\n",
      "           1       0.71      0.48      0.57      1236\n",
      "\n",
      "    accuracy                           0.77      3882\n",
      "   macro avg       0.75      0.69      0.71      3882\n",
      "weighted avg       0.76      0.77      0.76      3882\n",
      "\n"
     ]
    }
   ],
   "source": [
    "from sklearn.metrics import classification_report, confusion_matrix\n",
    "\n",
    "# Calculate predictions: predictions\n",
    "predictions = model.predict_classes(X_test)\n",
    "\n",
    "print(confusion_matrix(y_test, predictions))\n",
    "\n",
    "# Create the performance report\n",
    "print(classification_report(y_test, predictions))"
   ]
  },
  {
   "cell_type": "markdown",
   "metadata": {},
   "source": [
    "The neural network seems to do a reasonable job at classifying hypertensive hearts from non-hypertensive, however this is not very much of an improvement upon results achieved with an ordinary logistic regression model (in other analysis).  At any rate, let's explore the training and test loss and accuracy."
   ]
  },
  {
   "cell_type": "code",
   "execution_count": 80,
   "metadata": {},
   "outputs": [
    {
     "data": {
      "image/png": "[encoded data removed]",
      "text/plain": [
       "<Figure size 432x288 with 1 Axes>"
      ]
     },
     "metadata": {
      "needs_background": "light"
     },
     "output_type": "display_data"
    },
    {
     "data": {
      "image/png": "[encoded data removed]",
      "text/plain": [
       "<Figure size 432x288 with 1 Axes>"
      ]
     },
     "metadata": {
      "needs_background": "light"
     },
     "output_type": "display_data"
    }
   ],
   "source": [
    "# Plot train vs test loss during training\n",
    "plot_loss(history.history['loss'], history.history['val_loss'])\n",
    "\n",
    "# Plot train vs test accuracy during training\n",
    "plot_accuracy(history.history['accuracy'], history.history['val_accuracy'])"
   ]
  },
  {
   "cell_type": "code",
   "execution_count": 57,
   "metadata": {},
   "outputs": [],
   "source": [
    "def plot_loss(loss,val_loss):\n",
    "    plt.figure()\n",
    "    plt.plot(loss)\n",
    "    plt.plot(val_loss)\n",
    "    plt.title('Model loss')\n",
    "    plt.ylabel('Loss')\n",
    "    plt.xlabel('Epoch')\n",
    "    plt.legend(['Train', 'Test'], loc='upper right')\n",
    "    plt.show()"
   ]
  },
  {
   "cell_type": "code",
   "execution_count": 58,
   "metadata": {},
   "outputs": [],
   "source": [
    "def plot_accuracy(acc,val_acc):\n",
    "  # Plot training & validation accuracy values\n",
    "    plt.figure()\n",
    "    plt.plot(acc)\n",
    "    plt.plot(val_acc)\n",
    "    plt.title('Model accuracy')\n",
    "    plt.ylabel('Accuracy')\n",
    "    plt.xlabel('Epoch')\n",
    "    plt.legend(['Train', 'Test'], loc='upper left')\n",
    "    plt.show()"
   ]
  }
 ],
 "metadata": {
  "kernelspec": {
   "display_name": "Python 3",
   "language": "python",
   "name": "python3"
  },
  "language_info": {
   "codemirror_mode": {
    "name": "ipython",
    "version": 3
   },
   "file_extension": ".py",
   "mimetype": "text/x-python",
   "name": "python",
   "nbconvert_exporter": "python",
   "pygments_lexer": "ipython3",
   "version": "3.7.4"
  }
 },
 "nbformat": 4,
 "nbformat_minor": 2
}
